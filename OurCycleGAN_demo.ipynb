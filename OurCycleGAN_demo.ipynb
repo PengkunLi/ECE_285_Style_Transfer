{
 "cells": [
  {
   "cell_type": "code",
   "execution_count": null,
   "metadata": {},
   "outputs": [],
   "source": [
    "from OurCycleGan_Small_Datasets import *"
   ]
  },
  {
   "cell_type": "markdown",
   "metadata": {},
   "source": [
    "# 1. Demo with small datasets"
   ]
  },
  {
   "cell_type": "markdown",
   "metadata": {},
   "source": [
    "## 1. Demo of 'Ukiyo_e' and 'city'"
   ]
  },
  {
   "cell_type": "code",
   "execution_count": null,
   "metadata": {},
   "outputs": [],
   "source": [
    "wikiart_subclass = 'Ukiyo_e'\n",
    "flickr_subclass = 'city'\n",
    "wikiart_imgs_dir = os.path.join(wikiar_dir, wikiart_subclass)\n",
    "print(wikiart_imgs_dir)\n",
    "flickr_imgs_dir = os.path.join(flickr_dir, flickr_subclass)\n",
    "print(flickr_imgs_dir)"
   ]
  },
  {
   "cell_type": "code",
   "execution_count": null,
   "metadata": {},
   "outputs": [],
   "source": [
    "test_set = CycleGanDatasets(wikiart_root_dir = wikiart_imgs_dir, flickr_root_dir = flickr_imgs_dir, mode = \"test\")\n",
    "test_loader = DataLoader(test_set, batch_size = opt.batchSize, shuffle = False, pin_memory=True, drop_last=True)"
   ]
  },
  {
   "cell_type": "code",
   "execution_count": null,
   "metadata": {},
   "outputs": [],
   "source": [
    "exp0 = demo_module(netG_A2B, netG_B2A, netD_A, netD_B, opt, test_loader, \\\n",
    "                    output_dir = 'check_'+wikiart_subclass+'_'+flickr_subclass)"
   ]
  },
  {
   "cell_type": "code",
   "execution_count": null,
   "metadata": {
    "scrolled": false
   },
   "outputs": [],
   "source": [
    "exp0.demo(wikiart_subclass, flickr_subclass)\n",
    "# from left to right: (real artwork, fake artwork, real landscape, fake landscape)"
   ]
  },
  {
   "cell_type": "markdown",
   "metadata": {},
   "source": [
    "## 2. Demo of 'Romanticism' and 'forest'"
   ]
  },
  {
   "cell_type": "code",
   "execution_count": null,
   "metadata": {},
   "outputs": [],
   "source": [
    "wikiart_subclass = 'Romanticism'\n",
    "flickr_subclass = 'forest'\n",
    "wikiart_imgs_dir = os.path.join(wikiar_dir, wikiart_subclass)\n",
    "print(wikiart_imgs_dir)\n",
    "flickr_imgs_dir = os.path.join(flickr_dir, flickr_subclass)\n",
    "print(flickr_imgs_dir)"
   ]
  },
  {
   "cell_type": "code",
   "execution_count": null,
   "metadata": {},
   "outputs": [],
   "source": [
    "test_set = CycleGanDatasets(wikiart_root_dir = wikiart_imgs_dir, flickr_root_dir = flickr_imgs_dir, mode = \"test\")\n",
    "test_loader = DataLoader(test_set, batch_size = opt.batchSize, shuffle = False, pin_memory=True, drop_last=True)"
   ]
  },
  {
   "cell_type": "code",
   "execution_count": null,
   "metadata": {},
   "outputs": [],
   "source": [
    "exp0 = demo_module(netG_A2B, netG_B2A, netD_A, netD_B, opt, test_loader, \\\n",
    "                    output_dir = 'check_'+wikiart_subclass+'_'+flickr_subclass)"
   ]
  },
  {
   "cell_type": "code",
   "execution_count": null,
   "metadata": {
    "scrolled": false
   },
   "outputs": [],
   "source": [
    "exp0.demo(wikiart_subclass, flickr_subclass)\n",
    "# from left to right: (real artwork, fake artwork, real landscape, fake landscape)"
   ]
  },
  {
   "cell_type": "markdown",
   "metadata": {},
   "source": [
    "## 3. Demo of 'Rococo' and 'field'"
   ]
  },
  {
   "cell_type": "code",
   "execution_count": null,
   "metadata": {},
   "outputs": [],
   "source": [
    "wikiart_subclass = 'Rococo'\n",
    "flickr_subclass = 'field'\n",
    "wikiart_imgs_dir = os.path.join(wikiar_dir, wikiart_subclass)\n",
    "print(wikiart_imgs_dir)\n",
    "flickr_imgs_dir = os.path.join(flickr_dir, flickr_subclass)\n",
    "print(flickr_imgs_dir)"
   ]
  },
  {
   "cell_type": "code",
   "execution_count": null,
   "metadata": {},
   "outputs": [],
   "source": [
    "test_set = CycleGanDatasets(wikiart_root_dir = wikiart_imgs_dir, flickr_root_dir = flickr_imgs_dir, mode = \"test\")\n",
    "test_loader = DataLoader(test_set, batch_size = opt.batchSize, shuffle = False, pin_memory=True, drop_last=True)"
   ]
  },
  {
   "cell_type": "code",
   "execution_count": null,
   "metadata": {},
   "outputs": [],
   "source": [
    "exp0 = demo_module(netG_A2B, netG_B2A, netD_A, netD_B, opt, test_loader, \\\n",
    "                    output_dir = 'check_'+wikiart_subclass+'_'+flickr_subclass)"
   ]
  },
  {
   "cell_type": "code",
   "execution_count": null,
   "metadata": {},
   "outputs": [],
   "source": [
    "exp0.demo(wikiart_subclass, flickr_subclass)\n",
    "# from left to right: (real artwork, fake artwork, real landscape, fake landscape)"
   ]
  },
  {
   "cell_type": "markdown",
   "metadata": {},
   "source": [
    "# 2. Demo with large datasets"
   ]
  },
  {
   "cell_type": "markdown",
   "metadata": {},
   "source": [
    "## Introducing a new class of dataset"
   ]
  },
  {
   "cell_type": "code",
   "execution_count": null,
   "metadata": {},
   "outputs": [],
   "source": [
    "from OurCycleGan_Large_Datasets import *"
   ]
  },
  {
   "cell_type": "markdown",
   "metadata": {},
   "source": [
    "## 1. Demo of 'Ukiyo_e' and 'city'"
   ]
  },
  {
   "cell_type": "code",
   "execution_count": null,
   "metadata": {},
   "outputs": [],
   "source": [
    "wikiart_subclass = 'Ukiyo_e'\n",
    "flickr_subclass = 'city'\n",
    "wikiart_imgs_dir = os.path.join(wikiar_dir, wikiart_subclass)\n",
    "print(wikiart_imgs_dir)\n",
    "flickr_imgs_dir = os.path.join(flickr_dir, flickr_subclass)\n",
    "print(flickr_imgs_dir)"
   ]
  },
  {
   "cell_type": "code",
   "execution_count": null,
   "metadata": {},
   "outputs": [],
   "source": [
    "test_set = CycleGanDatasets(wikiart_root_dir = wikiart_imgs_dir, flickr_root_dir = flickr_imgs_dir, mode = \"test\")\n",
    "test_loader = DataLoader(test_set, batch_size = opt.batchSize, shuffle = False, pin_memory=True, drop_last=True)"
   ]
  },
  {
   "cell_type": "code",
   "execution_count": null,
   "metadata": {},
   "outputs": [],
   "source": [
    "exp0 = demo_module(netG_A2B, netG_B2A, netD_A, netD_B, opt, test_loader, \\\n",
    "                    output_dir = 'check_'+wikiart_subclass+'_'+flickr_subclass+'_max')"
   ]
  },
  {
   "cell_type": "code",
   "execution_count": null,
   "metadata": {
    "scrolled": false
   },
   "outputs": [],
   "source": [
    "exp0.demo(wikiart_subclass, flickr_subclass)\n",
    "# from left to right: (real artwork, fake artwork, real landscape, fake landscape)"
   ]
  },
  {
   "cell_type": "markdown",
   "metadata": {},
   "source": [
    "## 2. Demo of 'Romanticism' and 'forest'"
   ]
  },
  {
   "cell_type": "code",
   "execution_count": null,
   "metadata": {},
   "outputs": [],
   "source": [
    "wikiart_subclass = 'Romanticism'\n",
    "flickr_subclass = 'forest'\n",
    "wikiart_imgs_dir = os.path.join(wikiar_dir, wikiart_subclass)\n",
    "print(wikiart_imgs_dir)\n",
    "flickr_imgs_dir = os.path.join(flickr_dir, flickr_subclass)\n",
    "print(flickr_imgs_dir)"
   ]
  },
  {
   "cell_type": "code",
   "execution_count": null,
   "metadata": {},
   "outputs": [],
   "source": [
    "test_set = CycleGanDatasets(wikiart_root_dir = wikiart_imgs_dir, flickr_root_dir = flickr_imgs_dir, mode = \"test\")\n",
    "test_loader = DataLoader(test_set, batch_size = opt.batchSize, shuffle = False, pin_memory=True, drop_last=True)"
   ]
  },
  {
   "cell_type": "code",
   "execution_count": null,
   "metadata": {},
   "outputs": [],
   "source": [
    "exp0 = demo_module(netG_A2B, netG_B2A, netD_A, netD_B, opt, test_loader, \\\n",
    "                    output_dir = 'check_'+wikiart_subclass+'_'+flickr_subclass+'_max')"
   ]
  },
  {
   "cell_type": "code",
   "execution_count": null,
   "metadata": {
    "scrolled": false
   },
   "outputs": [],
   "source": [
    "exp0.demo(wikiart_subclass, flickr_subclass)\n",
    "# from left to right: (real artwork, fake artwork, real landscape, fake landscape)"
   ]
  },
  {
   "cell_type": "markdown",
   "metadata": {},
   "source": [
    "## 3. Demo of 'Rococo' and 'field'"
   ]
  },
  {
   "cell_type": "code",
   "execution_count": null,
   "metadata": {},
   "outputs": [],
   "source": [
    "wikiart_subclass = 'Rococo'\n",
    "flickr_subclass = 'field'\n",
    "wikiart_imgs_dir = os.path.join(wikiar_dir, wikiart_subclass)\n",
    "print(wikiart_imgs_dir)\n",
    "flickr_imgs_dir = os.path.join(flickr_dir, flickr_subclass)\n",
    "print(flickr_imgs_dir)"
   ]
  },
  {
   "cell_type": "code",
   "execution_count": null,
   "metadata": {},
   "outputs": [],
   "source": [
    "test_set = CycleGanDatasets(wikiart_root_dir = wikiart_imgs_dir, flickr_root_dir = flickr_imgs_dir, mode = \"test\")\n",
    "test_loader = DataLoader(test_set, batch_size = opt.batchSize, shuffle = False, pin_memory=True, drop_last=True)"
   ]
  },
  {
   "cell_type": "code",
   "execution_count": null,
   "metadata": {},
   "outputs": [],
   "source": [
    "exp0 = demo_module(netG_A2B, netG_B2A, netD_A, netD_B, opt, test_loader, \\\n",
    "                    output_dir = 'check_'+wikiart_subclass+'_'+flickr_subclass+'_max')"
   ]
  },
  {
   "cell_type": "code",
   "execution_count": null,
   "metadata": {},
   "outputs": [],
   "source": [
    "exp0.demo(wikiart_subclass, flickr_subclass)\n",
    "# from left to right: (real artwork, fake artwork, real landscape, fake landscape)"
   ]
  }
 ],
 "metadata": {
  "kernelspec": {
   "display_name": "Python 3",
   "language": "python",
   "name": "python3"
  },
  "language_info": {
   "codemirror_mode": {
    "name": "ipython",
    "version": 3
   },
   "file_extension": ".py",
   "mimetype": "text/x-python",
   "name": "python",
   "nbconvert_exporter": "python",
   "pygments_lexer": "ipython3",
   "version": "3.6.8"
  }
 },
 "nbformat": 4,
 "nbformat_minor": 2
}
